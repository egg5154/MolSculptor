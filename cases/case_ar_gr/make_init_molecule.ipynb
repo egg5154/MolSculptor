{
 "cells": [
  {
   "cell_type": "code",
   "execution_count": null,
   "metadata": {},
   "outputs": [],
   "source": [
    "import numpy as np\n",
    "import matplotlib.pyplot as plt\n",
    "import pickle as pkl\n",
    "import os\n",
    "import sys\n",
    "import jax.tree_util as jtu\n",
    "import subprocess"
   ]
  },
  {
   "cell_type": "code",
   "execution_count": null,
   "metadata": {},
   "outputs": [],
   "source": [
    "sys.path.append(os.path.dirname(os.getcwd()))\n",
    "from ml_collections import ConfigDict\n",
    "from rdkit import Chem\n",
    "from train.scheduler import GaussianDiffusion\n",
    "from train.inference import smi2graph_features\n",
    "from train.rewards import smi2pdbqt_obabel"
   ]
  },
  {
   "cell_type": "code",
   "execution_count": null,
   "metadata": {},
   "outputs": [],
   "source": [
    "lead_smi = 'CCOC(=O)c1ccc(NC(=O)c2cccc(S(=O)(=O)N3CCCc4ccccc43)c2)s1'\n",
    "lead_smi = Chem.MolToSmiles(Chem.MolFromSmiles(lead_smi), canonical=True)\n",
    "print(\"Canonical SMILES: \", lead_smi)"
   ]
  },
  {
   "cell_type": "code",
   "execution_count": null,
   "metadata": {},
   "outputs": [],
   "source": [
    "os.makedirs('./init_molecule', exist_ok=True)\n",
    "graphs = smi2graph_features(lead_smi)"
   ]
  },
  {
   "cell_type": "code",
   "execution_count": null,
   "metadata": {},
   "outputs": [],
   "source": [
    "molecule = {\n",
    "        'scores': np.asarray([9.221234, 8.996435], np.float32),\n",
    "        'smiles': np.asarray(lead_smi, object),\n",
    "        'graphs': graphs,\n",
    "    }"
   ]
  },
  {
   "cell_type": "code",
   "execution_count": null,
   "metadata": {},
   "outputs": [],
   "source": [
    "with open(f'./init_molecule/init_search_molecule.pkl', 'wb') as f:\n",
    "    pkl.dump(molecule, f)"
   ]
  },
  {
   "cell_type": "code",
   "execution_count": null,
   "metadata": {},
   "outputs": [],
   "source": []
  }
 ],
 "metadata": {
  "kernelspec": {
   "display_name": "jax_v0.4.28",
   "language": "python",
   "name": "python3"
  },
  "language_info": {
   "codemirror_mode": {
    "name": "ipython",
    "version": 3
   },
   "file_extension": ".py",
   "mimetype": "text/x-python",
   "name": "python",
   "nbconvert_exporter": "python",
   "pygments_lexer": "ipython3",
   "version": "3.10.14"
  }
 },
 "nbformat": 4,
 "nbformat_minor": 2
}
