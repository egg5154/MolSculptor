{
 "cells": [
  {
   "cell_type": "code",
   "execution_count": 1,
   "metadata": {},
   "outputs": [],
   "source": [
    "import numpy as np\n",
    "import matplotlib.pyplot as plt\n",
    "import pickle as pkl\n",
    "import os\n",
    "import sys\n",
    "import jax.tree_util as jtu\n",
    "import subprocess"
   ]
  },
  {
   "cell_type": "code",
   "execution_count": 7,
   "metadata": {},
   "outputs": [],
   "source": [
    "sys.path.append(os.path.abspath(os.path.join(os.getcwd(), '..', '..')))\n",
    "from ml_collections import ConfigDict\n",
    "from rdkit import Chem\n",
    "from train.scheduler import GaussianDiffusion\n",
    "from train.inference import smi2graph_features\n",
    "from train.rewards import smi2pdbqt, dsdp_reward"
   ]
  },
  {
   "cell_type": "code",
   "execution_count": 9,
   "metadata": {},
   "outputs": [
    {
     "name": "stdout",
     "output_type": "stream",
     "text": [
      "Canonical SMILES:  CN[C@H]1C[C@@H]2O[C@](C)([C@H]1OC)n1c3ccccc3c3c4c(c5c6ccccc6n2c5c31)C(=O)NC4\n"
     ]
    }
   ],
   "source": [
    "lead_smi = '[H][C@@]12C[C@H](NC)[C@H](OC)[C@@](C)(O1)N1C3=C(C=CC=C3)C3=C1C1=C(C4=CC=CC=C4N21)C1=C3CNC1=O'\n",
    "lead_smi = Chem.MolToSmiles(Chem.MolFromSmiles(lead_smi), canonical=True)\n",
    "print(\"Canonical SMILES: \", lead_smi)"
   ]
  },
  {
   "cell_type": "code",
   "execution_count": null,
   "metadata": {},
   "outputs": [],
   "source": [
    "os.makedirs('./init_molecule', exist_ok=True)\n",
    "root_wd = os.path.dirname(os.getcwd())\n",
    "graphs = smi2graph_features(lead_smi)"
   ]
  },
  {
   "cell_type": "code",
   "execution_count": null,
   "metadata": {},
   "outputs": [],
   "source": [
    "molecule = {\n",
    "        'scores': np.asarray([7.67, -10.51], np.float32),\n",
    "        'smiles': np.asarray(lead_smi, object),\n",
    "        'graphs': graphs,\n",
    "    } # bike(4w9w) / mpsk1(2buj)"
   ]
  },
  {
   "cell_type": "code",
   "execution_count": null,
   "metadata": {},
   "outputs": [],
   "source": [
    "with open(f'./init_molecule/init_search_molecule.pkl', 'wb') as f:\n",
    "    pkl.dump(molecule, f)"
   ]
  }
 ],
 "metadata": {
  "kernelspec": {
   "display_name": "jax_v0.4.28",
   "language": "python",
   "name": "python3"
  },
  "language_info": {
   "codemirror_mode": {
    "name": "ipython",
    "version": 3
   },
   "file_extension": ".py",
   "mimetype": "text/x-python",
   "name": "python",
   "nbconvert_exporter": "python",
   "pygments_lexer": "ipython3",
   "version": "3.10.14"
  }
 },
 "nbformat": 4,
 "nbformat_minor": 2
}
